{
 "cells": [
  {
   "cell_type": "code",
   "execution_count": 1,
   "id": "9b8161fd",
   "metadata": {},
   "outputs": [],
   "source": [
    "import pandas as pd\n",
    "from mlxtend.preprocessing import TransactionEncoder\n",
    "from mlxtend.frequent_patterns import apriori, association_rules"
   ]
  },
  {
   "cell_type": "code",
   "execution_count": 7,
   "id": "6c4c5947",
   "metadata": {},
   "outputs": [
    {
     "data": {
      "text/plain": [
       "[['PAINEL', 'BANCOS', 'BOLSA DA PORTA', 'ESTRIBO'],\n",
       " ['BANCOS', 'ALARME', 'BOLSA DA PORTA'],\n",
       " ['PAINEL', 'ALARME', 'ESTRIBO'],\n",
       " ['BANCOS', 'PAINEL', 'ESTRIBO'],\n",
       " ['BOLSA DA PORTA', 'PAINEL', 'ALARME'],\n",
       " ['PAINEL', 'ALARME', 'ESTRIBO', 'BANCOS'],\n",
       " ['BANCOS', 'BOLSA DA PORTA', 'ESTRIBO'],\n",
       " ['PAINEL', 'BANCOS', 'ALARME', 'ESTRIBO'],\n",
       " ['BOLSA DA PORTA', 'ALARME', 'ESTRIBO'],\n",
       " ['PAINEL', 'ALARME', 'BANCOS'],\n",
       " ['BANCOS', 'BOLSA DA PORTA', 'PAINEL'],\n",
       " ['PAINEL', 'ESTRIBO', 'BANCOS'],\n",
       " ['BANCOS', 'ALARME', 'BOLSA DA PORTA', 'ESTRIBO'],\n",
       " ['PAINEL', 'ALARME', 'BANCOS', 'ESTRIBO'],\n",
       " ['BOLSA DA PORTA', 'PAINEL', 'ALARME', 'ESTRIBO'],\n",
       " ['ALARME', 'ESTRIBO', 'BANCOS'],\n",
       " ['BANCOS', 'BOLSA DA PORTA', 'ALARME'],\n",
       " ['PAINEL', 'BANCOS', 'ESTRIBO'],\n",
       " ['BOLSA DA PORTA', 'ALARME', 'PAINEL'],\n",
       " ['PAINEL', 'ALARME', 'BANCOS', 'ESTRIBO']]"
      ]
     },
     "execution_count": 7,
     "metadata": {},
     "output_type": "execute_result"
    }
   ],
   "source": [
    "with open(r\"C:\\Users\\gustavofb\\Documents\\teste_ia\\data_archives\\Transacoes.txt\", \"r\", encoding=\"utf-8\") as f:\n",
    "    transactions = [line.strip().split(\",\") for line in f.readlines()]\n",
    "\n",
    "transactions"
   ]
  },
  {
   "cell_type": "code",
   "execution_count": 8,
   "id": "0cabfbcf",
   "metadata": {},
   "outputs": [
    {
     "data": {
      "application/vnd.microsoft.datawrangler.viewer.v0+json": {
       "columns": [
        {
         "name": "index",
         "rawType": "int64",
         "type": "integer"
        },
        {
         "name": "ALARME",
         "rawType": "bool",
         "type": "boolean"
        },
        {
         "name": "BANCOS",
         "rawType": "bool",
         "type": "boolean"
        },
        {
         "name": "BOLSA DA PORTA",
         "rawType": "bool",
         "type": "boolean"
        },
        {
         "name": "ESTRIBO",
         "rawType": "bool",
         "type": "boolean"
        },
        {
         "name": "PAINEL",
         "rawType": "bool",
         "type": "boolean"
        }
       ],
       "ref": "e030f44d-be89-4738-9a9c-9fa7b1f82061",
       "rows": [
        [
         "0",
         "False",
         "True",
         "True",
         "True",
         "True"
        ],
        [
         "1",
         "True",
         "True",
         "True",
         "False",
         "False"
        ],
        [
         "2",
         "True",
         "False",
         "False",
         "True",
         "True"
        ],
        [
         "3",
         "False",
         "True",
         "False",
         "True",
         "True"
        ],
        [
         "4",
         "True",
         "False",
         "True",
         "False",
         "True"
        ],
        [
         "5",
         "True",
         "True",
         "False",
         "True",
         "True"
        ],
        [
         "6",
         "False",
         "True",
         "True",
         "True",
         "False"
        ],
        [
         "7",
         "True",
         "True",
         "False",
         "True",
         "True"
        ],
        [
         "8",
         "True",
         "False",
         "True",
         "True",
         "False"
        ],
        [
         "9",
         "True",
         "True",
         "False",
         "False",
         "True"
        ],
        [
         "10",
         "False",
         "True",
         "True",
         "False",
         "True"
        ],
        [
         "11",
         "False",
         "True",
         "False",
         "True",
         "True"
        ],
        [
         "12",
         "True",
         "True",
         "True",
         "True",
         "False"
        ],
        [
         "13",
         "True",
         "True",
         "False",
         "True",
         "True"
        ],
        [
         "14",
         "True",
         "False",
         "True",
         "True",
         "True"
        ],
        [
         "15",
         "True",
         "True",
         "False",
         "True",
         "False"
        ],
        [
         "16",
         "True",
         "True",
         "True",
         "False",
         "False"
        ],
        [
         "17",
         "False",
         "True",
         "False",
         "True",
         "True"
        ],
        [
         "18",
         "True",
         "False",
         "True",
         "False",
         "True"
        ],
        [
         "19",
         "True",
         "True",
         "False",
         "True",
         "True"
        ]
       ],
       "shape": {
        "columns": 5,
        "rows": 20
       }
      },
      "text/html": [
       "<div>\n",
       "<style scoped>\n",
       "    .dataframe tbody tr th:only-of-type {\n",
       "        vertical-align: middle;\n",
       "    }\n",
       "\n",
       "    .dataframe tbody tr th {\n",
       "        vertical-align: top;\n",
       "    }\n",
       "\n",
       "    .dataframe thead th {\n",
       "        text-align: right;\n",
       "    }\n",
       "</style>\n",
       "<table border=\"1\" class=\"dataframe\">\n",
       "  <thead>\n",
       "    <tr style=\"text-align: right;\">\n",
       "      <th></th>\n",
       "      <th>ALARME</th>\n",
       "      <th>BANCOS</th>\n",
       "      <th>BOLSA DA PORTA</th>\n",
       "      <th>ESTRIBO</th>\n",
       "      <th>PAINEL</th>\n",
       "    </tr>\n",
       "  </thead>\n",
       "  <tbody>\n",
       "    <tr>\n",
       "      <th>0</th>\n",
       "      <td>False</td>\n",
       "      <td>True</td>\n",
       "      <td>True</td>\n",
       "      <td>True</td>\n",
       "      <td>True</td>\n",
       "    </tr>\n",
       "    <tr>\n",
       "      <th>1</th>\n",
       "      <td>True</td>\n",
       "      <td>True</td>\n",
       "      <td>True</td>\n",
       "      <td>False</td>\n",
       "      <td>False</td>\n",
       "    </tr>\n",
       "    <tr>\n",
       "      <th>2</th>\n",
       "      <td>True</td>\n",
       "      <td>False</td>\n",
       "      <td>False</td>\n",
       "      <td>True</td>\n",
       "      <td>True</td>\n",
       "    </tr>\n",
       "    <tr>\n",
       "      <th>3</th>\n",
       "      <td>False</td>\n",
       "      <td>True</td>\n",
       "      <td>False</td>\n",
       "      <td>True</td>\n",
       "      <td>True</td>\n",
       "    </tr>\n",
       "    <tr>\n",
       "      <th>4</th>\n",
       "      <td>True</td>\n",
       "      <td>False</td>\n",
       "      <td>True</td>\n",
       "      <td>False</td>\n",
       "      <td>True</td>\n",
       "    </tr>\n",
       "    <tr>\n",
       "      <th>5</th>\n",
       "      <td>True</td>\n",
       "      <td>True</td>\n",
       "      <td>False</td>\n",
       "      <td>True</td>\n",
       "      <td>True</td>\n",
       "    </tr>\n",
       "    <tr>\n",
       "      <th>6</th>\n",
       "      <td>False</td>\n",
       "      <td>True</td>\n",
       "      <td>True</td>\n",
       "      <td>True</td>\n",
       "      <td>False</td>\n",
       "    </tr>\n",
       "    <tr>\n",
       "      <th>7</th>\n",
       "      <td>True</td>\n",
       "      <td>True</td>\n",
       "      <td>False</td>\n",
       "      <td>True</td>\n",
       "      <td>True</td>\n",
       "    </tr>\n",
       "    <tr>\n",
       "      <th>8</th>\n",
       "      <td>True</td>\n",
       "      <td>False</td>\n",
       "      <td>True</td>\n",
       "      <td>True</td>\n",
       "      <td>False</td>\n",
       "    </tr>\n",
       "    <tr>\n",
       "      <th>9</th>\n",
       "      <td>True</td>\n",
       "      <td>True</td>\n",
       "      <td>False</td>\n",
       "      <td>False</td>\n",
       "      <td>True</td>\n",
       "    </tr>\n",
       "    <tr>\n",
       "      <th>10</th>\n",
       "      <td>False</td>\n",
       "      <td>True</td>\n",
       "      <td>True</td>\n",
       "      <td>False</td>\n",
       "      <td>True</td>\n",
       "    </tr>\n",
       "    <tr>\n",
       "      <th>11</th>\n",
       "      <td>False</td>\n",
       "      <td>True</td>\n",
       "      <td>False</td>\n",
       "      <td>True</td>\n",
       "      <td>True</td>\n",
       "    </tr>\n",
       "    <tr>\n",
       "      <th>12</th>\n",
       "      <td>True</td>\n",
       "      <td>True</td>\n",
       "      <td>True</td>\n",
       "      <td>True</td>\n",
       "      <td>False</td>\n",
       "    </tr>\n",
       "    <tr>\n",
       "      <th>13</th>\n",
       "      <td>True</td>\n",
       "      <td>True</td>\n",
       "      <td>False</td>\n",
       "      <td>True</td>\n",
       "      <td>True</td>\n",
       "    </tr>\n",
       "    <tr>\n",
       "      <th>14</th>\n",
       "      <td>True</td>\n",
       "      <td>False</td>\n",
       "      <td>True</td>\n",
       "      <td>True</td>\n",
       "      <td>True</td>\n",
       "    </tr>\n",
       "    <tr>\n",
       "      <th>15</th>\n",
       "      <td>True</td>\n",
       "      <td>True</td>\n",
       "      <td>False</td>\n",
       "      <td>True</td>\n",
       "      <td>False</td>\n",
       "    </tr>\n",
       "    <tr>\n",
       "      <th>16</th>\n",
       "      <td>True</td>\n",
       "      <td>True</td>\n",
       "      <td>True</td>\n",
       "      <td>False</td>\n",
       "      <td>False</td>\n",
       "    </tr>\n",
       "    <tr>\n",
       "      <th>17</th>\n",
       "      <td>False</td>\n",
       "      <td>True</td>\n",
       "      <td>False</td>\n",
       "      <td>True</td>\n",
       "      <td>True</td>\n",
       "    </tr>\n",
       "    <tr>\n",
       "      <th>18</th>\n",
       "      <td>True</td>\n",
       "      <td>False</td>\n",
       "      <td>True</td>\n",
       "      <td>False</td>\n",
       "      <td>True</td>\n",
       "    </tr>\n",
       "    <tr>\n",
       "      <th>19</th>\n",
       "      <td>True</td>\n",
       "      <td>True</td>\n",
       "      <td>False</td>\n",
       "      <td>True</td>\n",
       "      <td>True</td>\n",
       "    </tr>\n",
       "  </tbody>\n",
       "</table>\n",
       "</div>"
      ],
      "text/plain": [
       "    ALARME  BANCOS  BOLSA DA PORTA  ESTRIBO  PAINEL\n",
       "0    False    True            True     True    True\n",
       "1     True    True            True    False   False\n",
       "2     True   False           False     True    True\n",
       "3    False    True           False     True    True\n",
       "4     True   False            True    False    True\n",
       "5     True    True           False     True    True\n",
       "6    False    True            True     True   False\n",
       "7     True    True           False     True    True\n",
       "8     True   False            True     True   False\n",
       "9     True    True           False    False    True\n",
       "10   False    True            True    False    True\n",
       "11   False    True           False     True    True\n",
       "12    True    True            True     True   False\n",
       "13    True    True           False     True    True\n",
       "14    True   False            True     True    True\n",
       "15    True    True           False     True   False\n",
       "16    True    True            True    False   False\n",
       "17   False    True           False     True    True\n",
       "18    True   False            True    False    True\n",
       "19    True    True           False     True    True"
      ]
     },
     "execution_count": 8,
     "metadata": {},
     "output_type": "execute_result"
    }
   ],
   "source": [
    "te = TransactionEncoder()\n",
    "te_array = te.fit(transactions).transform(transactions)\n",
    "df =pd.DataFrame(te_array, columns=te.columns_)\n",
    "df"
   ]
  },
  {
   "cell_type": "code",
   "execution_count": 9,
   "id": "87e3796e",
   "metadata": {},
   "outputs": [
    {
     "data": {
      "application/vnd.microsoft.datawrangler.viewer.v0+json": {
       "columns": [
        {
         "name": "index",
         "rawType": "int64",
         "type": "integer"
        },
        {
         "name": "support",
         "rawType": "float64",
         "type": "float"
        },
        {
         "name": "itemsets",
         "rawType": "object",
         "type": "unknown"
        }
       ],
       "ref": "e32dd730-43ad-4e8c-b598-53ce0cfcc9a7",
       "rows": [
        [
         "0",
         "0.7",
         "frozenset({'ALARME'})"
        ],
        [
         "1",
         "0.75",
         "frozenset({'BANCOS'})"
        ],
        [
         "2",
         "0.5",
         "frozenset({'BOLSA DA PORTA'})"
        ],
        [
         "3",
         "0.7",
         "frozenset({'ESTRIBO'})"
        ],
        [
         "4",
         "0.7",
         "frozenset({'PAINEL'})"
        ],
        [
         "5",
         "0.55",
         "frozenset({'BANCOS', 'ESTRIBO'})"
        ],
        [
         "6",
         "0.5",
         "frozenset({'BANCOS', 'PAINEL'})"
        ],
        [
         "7",
         "0.5",
         "frozenset({'PAINEL', 'ESTRIBO'})"
        ]
       ],
       "shape": {
        "columns": 2,
        "rows": 8
       }
      },
      "text/html": [
       "<div>\n",
       "<style scoped>\n",
       "    .dataframe tbody tr th:only-of-type {\n",
       "        vertical-align: middle;\n",
       "    }\n",
       "\n",
       "    .dataframe tbody tr th {\n",
       "        vertical-align: top;\n",
       "    }\n",
       "\n",
       "    .dataframe thead th {\n",
       "        text-align: right;\n",
       "    }\n",
       "</style>\n",
       "<table border=\"1\" class=\"dataframe\">\n",
       "  <thead>\n",
       "    <tr style=\"text-align: right;\">\n",
       "      <th></th>\n",
       "      <th>support</th>\n",
       "      <th>itemsets</th>\n",
       "    </tr>\n",
       "  </thead>\n",
       "  <tbody>\n",
       "    <tr>\n",
       "      <th>0</th>\n",
       "      <td>0.70</td>\n",
       "      <td>(ALARME)</td>\n",
       "    </tr>\n",
       "    <tr>\n",
       "      <th>1</th>\n",
       "      <td>0.75</td>\n",
       "      <td>(BANCOS)</td>\n",
       "    </tr>\n",
       "    <tr>\n",
       "      <th>2</th>\n",
       "      <td>0.50</td>\n",
       "      <td>(BOLSA DA PORTA)</td>\n",
       "    </tr>\n",
       "    <tr>\n",
       "      <th>3</th>\n",
       "      <td>0.70</td>\n",
       "      <td>(ESTRIBO)</td>\n",
       "    </tr>\n",
       "    <tr>\n",
       "      <th>4</th>\n",
       "      <td>0.70</td>\n",
       "      <td>(PAINEL)</td>\n",
       "    </tr>\n",
       "    <tr>\n",
       "      <th>5</th>\n",
       "      <td>0.55</td>\n",
       "      <td>(BANCOS, ESTRIBO)</td>\n",
       "    </tr>\n",
       "    <tr>\n",
       "      <th>6</th>\n",
       "      <td>0.50</td>\n",
       "      <td>(BANCOS, PAINEL)</td>\n",
       "    </tr>\n",
       "    <tr>\n",
       "      <th>7</th>\n",
       "      <td>0.50</td>\n",
       "      <td>(PAINEL, ESTRIBO)</td>\n",
       "    </tr>\n",
       "  </tbody>\n",
       "</table>\n",
       "</div>"
      ],
      "text/plain": [
       "   support           itemsets\n",
       "0     0.70           (ALARME)\n",
       "1     0.75           (BANCOS)\n",
       "2     0.50   (BOLSA DA PORTA)\n",
       "3     0.70          (ESTRIBO)\n",
       "4     0.70           (PAINEL)\n",
       "5     0.55  (BANCOS, ESTRIBO)\n",
       "6     0.50   (BANCOS, PAINEL)\n",
       "7     0.50  (PAINEL, ESTRIBO)"
      ]
     },
     "execution_count": 9,
     "metadata": {},
     "output_type": "execute_result"
    }
   ],
   "source": [
    "frequent_itensets = apriori(df, min_support=0.5, use_colnames=True)\n",
    "frequent_itensets"
   ]
  },
  {
   "cell_type": "code",
   "execution_count": 10,
   "id": "e126bc52",
   "metadata": {},
   "outputs": [
    {
     "name": "stdout",
     "output_type": "stream",
     "text": [
      "  antecedents consequents  antecedent support  ...   jaccard  certainty  kulczynski\n",
      "0    (BANCOS)   (ESTRIBO)                0.75  ...  0.611111   0.111111    0.759524\n",
      "1   (ESTRIBO)    (BANCOS)                0.70  ...  0.611111   0.142857    0.759524\n",
      "2    (BANCOS)    (PAINEL)                0.75  ...  0.526316  -0.111111    0.690476\n",
      "3    (PAINEL)    (BANCOS)                0.70  ...  0.526316  -0.142857    0.690476\n",
      "4    (PAINEL)   (ESTRIBO)                0.70  ...  0.555556   0.047619    0.714286\n",
      "5   (ESTRIBO)    (PAINEL)                0.70  ...  0.555556   0.047619    0.714286\n",
      "\n",
      "[6 rows x 14 columns]\n"
     ]
    }
   ],
   "source": [
    "rules = association_rules(frequent_itensets, metric=\"confidence\", min_threshold=0.5)\n",
    "print(rules)"
   ]
  }
 ],
 "metadata": {
  "kernelspec": {
   "display_name": ".venv (3.12.10)",
   "language": "python",
   "name": "python3"
  },
  "language_info": {
   "codemirror_mode": {
    "name": "ipython",
    "version": 3
   },
   "file_extension": ".py",
   "mimetype": "text/x-python",
   "name": "python",
   "nbconvert_exporter": "python",
   "pygments_lexer": "ipython3",
   "version": "3.12.10"
  }
 },
 "nbformat": 4,
 "nbformat_minor": 5
}
