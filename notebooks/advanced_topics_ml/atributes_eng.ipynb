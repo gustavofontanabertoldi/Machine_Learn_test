{
 "cells": [
  {
   "cell_type": "code",
   "execution_count": 2,
   "id": "ce8250c2",
   "metadata": {},
   "outputs": [],
   "source": [
    "import pandas as pd\n",
    "from sklearn.preprocessing import LabelEncoder, StandardScaler"
   ]
  },
  {
   "cell_type": "code",
   "execution_count": 3,
   "id": "6b1c432c",
   "metadata": {},
   "outputs": [
    {
     "data": {
      "text/plain": [
       "(1000, 8)"
      ]
     },
     "execution_count": 3,
     "metadata": {},
     "output_type": "execute_result"
    }
   ],
   "source": [
    "dataset = pd.read_csv(r'C:\\Users\\gustavofb\\Documents\\teste_ia\\data_archives\\credit_simple.csv', sep=';')\n",
    "dataset.shape\n"
   ]
  },
  {
   "cell_type": "code",
   "execution_count": 4,
   "id": "b027c744",
   "metadata": {},
   "outputs": [
    {
     "data": {
      "application/vnd.microsoft.datawrangler.viewer.v0+json": {
       "columns": [
        {
         "name": "index",
         "rawType": "int64",
         "type": "integer"
        },
        {
         "name": "SALDO_ATUAL",
         "rawType": "float64",
         "type": "float"
        },
        {
         "name": "RESIDENCIADESDE",
         "rawType": "int64",
         "type": "integer"
        },
        {
         "name": "IDADE",
         "rawType": "int64",
         "type": "integer"
        },
        {
         "name": "OUTROSPLANOSPGTO",
         "rawType": "object",
         "type": "string"
        },
        {
         "name": "DATA",
         "rawType": "object",
         "type": "string"
        },
        {
         "name": "ESTADOCIVIL",
         "rawType": "object",
         "type": "string"
        },
        {
         "name": "PROPOSITO",
         "rawType": "object",
         "type": "string"
        },
        {
         "name": "CLASSE",
         "rawType": "object",
         "type": "string"
        }
       ],
       "ref": "03f3d699-e7ca-465f-af4b-ac2aeb639c3c",
       "rows": [
        [
         "0",
         "1169.0",
         "4",
         "67",
         "nenhum",
         "01/01/2019",
         "masculino solteiro",
         "radio/tv",
         "bom"
        ],
        [
         "1",
         "5951.0",
         "2",
         "22",
         "nenhum",
         "01/01/2020",
         "fem div/cas",
         "radio/tv",
         "ruim"
        ],
        [
         "2",
         "2096.0",
         "3",
         "49",
         "nenhum",
         "02/01/2020",
         "masculino solteiro",
         "educação",
         "bom"
        ],
        [
         "3",
         "7882.0",
         "4",
         "45",
         "nenhum",
         "02/01/2019",
         "masculino solteiro",
         "mobilia/equipamento",
         "bom"
        ],
        [
         "4",
         "4870.0",
         "4",
         "53",
         "nenhum",
         "03/01/2018",
         "masculino solteiro",
         "carro novo",
         "ruim"
        ]
       ],
       "shape": {
        "columns": 8,
        "rows": 5
       }
      },
      "text/html": [
       "<div>\n",
       "<style scoped>\n",
       "    .dataframe tbody tr th:only-of-type {\n",
       "        vertical-align: middle;\n",
       "    }\n",
       "\n",
       "    .dataframe tbody tr th {\n",
       "        vertical-align: top;\n",
       "    }\n",
       "\n",
       "    .dataframe thead th {\n",
       "        text-align: right;\n",
       "    }\n",
       "</style>\n",
       "<table border=\"1\" class=\"dataframe\">\n",
       "  <thead>\n",
       "    <tr style=\"text-align: right;\">\n",
       "      <th></th>\n",
       "      <th>SALDO_ATUAL</th>\n",
       "      <th>RESIDENCIADESDE</th>\n",
       "      <th>IDADE</th>\n",
       "      <th>OUTROSPLANOSPGTO</th>\n",
       "      <th>DATA</th>\n",
       "      <th>ESTADOCIVIL</th>\n",
       "      <th>PROPOSITO</th>\n",
       "      <th>CLASSE</th>\n",
       "    </tr>\n",
       "  </thead>\n",
       "  <tbody>\n",
       "    <tr>\n",
       "      <th>0</th>\n",
       "      <td>1169.0</td>\n",
       "      <td>4</td>\n",
       "      <td>67</td>\n",
       "      <td>nenhum</td>\n",
       "      <td>01/01/2019</td>\n",
       "      <td>masculino solteiro</td>\n",
       "      <td>radio/tv</td>\n",
       "      <td>bom</td>\n",
       "    </tr>\n",
       "    <tr>\n",
       "      <th>1</th>\n",
       "      <td>5951.0</td>\n",
       "      <td>2</td>\n",
       "      <td>22</td>\n",
       "      <td>nenhum</td>\n",
       "      <td>01/01/2020</td>\n",
       "      <td>fem div/cas</td>\n",
       "      <td>radio/tv</td>\n",
       "      <td>ruim</td>\n",
       "    </tr>\n",
       "    <tr>\n",
       "      <th>2</th>\n",
       "      <td>2096.0</td>\n",
       "      <td>3</td>\n",
       "      <td>49</td>\n",
       "      <td>nenhum</td>\n",
       "      <td>02/01/2020</td>\n",
       "      <td>masculino solteiro</td>\n",
       "      <td>educação</td>\n",
       "      <td>bom</td>\n",
       "    </tr>\n",
       "    <tr>\n",
       "      <th>3</th>\n",
       "      <td>7882.0</td>\n",
       "      <td>4</td>\n",
       "      <td>45</td>\n",
       "      <td>nenhum</td>\n",
       "      <td>02/01/2019</td>\n",
       "      <td>masculino solteiro</td>\n",
       "      <td>mobilia/equipamento</td>\n",
       "      <td>bom</td>\n",
       "    </tr>\n",
       "    <tr>\n",
       "      <th>4</th>\n",
       "      <td>4870.0</td>\n",
       "      <td>4</td>\n",
       "      <td>53</td>\n",
       "      <td>nenhum</td>\n",
       "      <td>03/01/2018</td>\n",
       "      <td>masculino solteiro</td>\n",
       "      <td>carro novo</td>\n",
       "      <td>ruim</td>\n",
       "    </tr>\n",
       "  </tbody>\n",
       "</table>\n",
       "</div>"
      ],
      "text/plain": [
       "   SALDO_ATUAL  RESIDENCIADESDE  IDADE OUTROSPLANOSPGTO        DATA  \\\n",
       "0       1169.0                4     67           nenhum  01/01/2019   \n",
       "1       5951.0                2     22           nenhum  01/01/2020   \n",
       "2       2096.0                3     49           nenhum  02/01/2020   \n",
       "3       7882.0                4     45           nenhum  02/01/2019   \n",
       "4       4870.0                4     53           nenhum  03/01/2018   \n",
       "\n",
       "          ESTADOCIVIL            PROPOSITO CLASSE  \n",
       "0  masculino solteiro             radio/tv    bom  \n",
       "1         fem div/cas             radio/tv   ruim  \n",
       "2  masculino solteiro             educação    bom  \n",
       "3  masculino solteiro  mobilia/equipamento    bom  \n",
       "4  masculino solteiro           carro novo   ruim  "
      ]
     },
     "execution_count": 4,
     "metadata": {},
     "output_type": "execute_result"
    }
   ],
   "source": [
    "dataset.head()"
   ]
  },
  {
   "cell_type": "code",
   "execution_count": 5,
   "id": "93cae35c",
   "metadata": {},
   "outputs": [],
   "source": [
    "y = dataset['CLASSE']\n",
    "X = dataset.iloc[:,:-1]"
   ]
  },
  {
   "cell_type": "code",
   "execution_count": 6,
   "id": "4a55395d",
   "metadata": {},
   "outputs": [
    {
     "data": {
      "text/plain": [
       "<bound method DataFrame.isnull of      SALDO_ATUAL  RESIDENCIADESDE  IDADE OUTROSPLANOSPGTO        DATA  \\\n",
       "0         1169.0                4     67           nenhum  01/01/2019   \n",
       "1         5951.0                2     22           nenhum  01/01/2020   \n",
       "2         2096.0                3     49           nenhum  02/01/2020   \n",
       "3         7882.0                4     45           nenhum  02/01/2019   \n",
       "4         4870.0                4     53           nenhum  03/01/2018   \n",
       "..           ...              ...    ...              ...         ...   \n",
       "995       1736.0                4     31           nenhum  29/06/2018   \n",
       "996       3857.0                4     40           nenhum  30/06/2018   \n",
       "997        804.0                4     38           nenhum  03/07/2018   \n",
       "998       1845.0                4     23           nenhum  04/07/2019   \n",
       "999       4576.0                4     27           nenhum  05/07/2018   \n",
       "\n",
       "            ESTADOCIVIL            PROPOSITO  \n",
       "0    masculino solteiro             radio/tv  \n",
       "1           fem div/cas             radio/tv  \n",
       "2    masculino solteiro             educação  \n",
       "3    masculino solteiro  mobilia/equipamento  \n",
       "4    masculino solteiro           carro novo  \n",
       "..                  ...                  ...  \n",
       "995         fem div/cas  mobilia/equipamento  \n",
       "996   masculino div/sep          carro usado  \n",
       "997  masculino solteiro             radio/tv  \n",
       "998  masculino solteiro             radio/tv  \n",
       "999  masculino solteiro          carro usado  \n",
       "\n",
       "[1000 rows x 7 columns]>"
      ]
     },
     "execution_count": 6,
     "metadata": {},
     "output_type": "execute_result"
    }
   ],
   "source": [
    "X.isnull"
   ]
  },
  {
   "cell_type": "code",
   "execution_count": 7,
   "id": "82b8a4fa",
   "metadata": {},
   "outputs": [
    {
     "data": {
      "text/plain": [
       "np.float64(2323.0)"
      ]
     },
     "execution_count": 7,
     "metadata": {},
     "output_type": "execute_result"
    }
   ],
   "source": [
    "mediana = X['SALDO_ATUAL'].median()\n",
    "mediana"
   ]
  },
  {
   "cell_type": "code",
   "execution_count": 8,
   "id": "ec953d07",
   "metadata": {},
   "outputs": [
    {
     "name": "stderr",
     "output_type": "stream",
     "text": [
      "C:\\Users\\gustavofb\\AppData\\Local\\Temp\\1\\ipykernel_1896\\2699089723.py:1: FutureWarning: A value is trying to be set on a copy of a DataFrame or Series through chained assignment using an inplace method.\n",
      "The behavior will change in pandas 3.0. This inplace method will never work because the intermediate object on which we are setting values always behaves as a copy.\n",
      "\n",
      "For example, when doing 'df[col].method(value, inplace=True)', try using 'df.method({col: value}, inplace=True)' or df[col] = df[col].method(value) instead, to perform the operation inplace on the original object.\n",
      "\n",
      "\n",
      "  X['SALDO_ATUAL'].fillna(mediana, inplace=True)\n"
     ]
    },
    {
     "data": {
      "text/plain": [
       "<bound method DataFrame.isnull of      SALDO_ATUAL  RESIDENCIADESDE  IDADE OUTROSPLANOSPGTO        DATA  \\\n",
       "0         1169.0                4     67           nenhum  01/01/2019   \n",
       "1         5951.0                2     22           nenhum  01/01/2020   \n",
       "2         2096.0                3     49           nenhum  02/01/2020   \n",
       "3         7882.0                4     45           nenhum  02/01/2019   \n",
       "4         4870.0                4     53           nenhum  03/01/2018   \n",
       "..           ...              ...    ...              ...         ...   \n",
       "995       1736.0                4     31           nenhum  29/06/2018   \n",
       "996       3857.0                4     40           nenhum  30/06/2018   \n",
       "997        804.0                4     38           nenhum  03/07/2018   \n",
       "998       1845.0                4     23           nenhum  04/07/2019   \n",
       "999       4576.0                4     27           nenhum  05/07/2018   \n",
       "\n",
       "            ESTADOCIVIL            PROPOSITO  \n",
       "0    masculino solteiro             radio/tv  \n",
       "1           fem div/cas             radio/tv  \n",
       "2    masculino solteiro             educação  \n",
       "3    masculino solteiro  mobilia/equipamento  \n",
       "4    masculino solteiro           carro novo  \n",
       "..                  ...                  ...  \n",
       "995         fem div/cas  mobilia/equipamento  \n",
       "996   masculino div/sep          carro usado  \n",
       "997  masculino solteiro             radio/tv  \n",
       "998  masculino solteiro             radio/tv  \n",
       "999  masculino solteiro          carro usado  \n",
       "\n",
       "[1000 rows x 7 columns]>"
      ]
     },
     "execution_count": 8,
     "metadata": {},
     "output_type": "execute_result"
    }
   ],
   "source": [
    "X['SALDO_ATUAL'].fillna(mediana, inplace=True)\n",
    "X.isnull"
   ]
  },
  {
   "cell_type": "code",
   "execution_count": 9,
   "id": "72a5fbeb",
   "metadata": {},
   "outputs": [
    {
     "data": {
      "application/vnd.microsoft.datawrangler.viewer.v0+json": {
       "columns": [
        {
         "name": "ESTADOCIVIL",
         "rawType": "object",
         "type": "string"
        },
        {
         "name": "0",
         "rawType": "int64",
         "type": "integer"
        }
       ],
       "ref": "7f716312-1490-4b23-9967-352f9de037ac",
       "rows": [
        [
         "fem div/cas",
         "308"
        ],
        [
         "masculino casado/viuvo",
         "92"
        ],
        [
         "masculino div/sep",
         "50"
        ],
        [
         "masculino solteiro",
         "542"
        ]
       ],
       "shape": {
        "columns": 1,
        "rows": 4
       }
      },
      "text/plain": [
       "ESTADOCIVIL\n",
       "fem div/cas               308\n",
       "masculino casado/viuvo     92\n",
       "masculino div/sep          50\n",
       "masculino solteiro        542\n",
       "dtype: int64"
      ]
     },
     "execution_count": 9,
     "metadata": {},
     "output_type": "execute_result"
    }
   ],
   "source": [
    "agrupado = X.groupby(['ESTADOCIVIL']).size()\n",
    "agrupado"
   ]
  },
  {
   "cell_type": "code",
   "execution_count": 10,
   "id": "8318abf2",
   "metadata": {},
   "outputs": [
    {
     "name": "stderr",
     "output_type": "stream",
     "text": [
      "C:\\Users\\gustavofb\\AppData\\Local\\Temp\\1\\ipykernel_1896\\1613236847.py:1: FutureWarning: A value is trying to be set on a copy of a DataFrame or Series through chained assignment using an inplace method.\n",
      "The behavior will change in pandas 3.0. This inplace method will never work because the intermediate object on which we are setting values always behaves as a copy.\n",
      "\n",
      "For example, when doing 'df[col].method(value, inplace=True)', try using 'df.method({col: value}, inplace=True)' or df[col] = df[col].method(value) instead, to perform the operation inplace on the original object.\n",
      "\n",
      "\n",
      "  X['ESTADOCIVIL'].fillna('masculino solteiro', inplace=True)\n"
     ]
    }
   ],
   "source": [
    "X['ESTADOCIVIL'].fillna('masculino solteiro', inplace=True)"
   ]
  },
  {
   "cell_type": "code",
   "execution_count": 11,
   "id": "f68ef038",
   "metadata": {},
   "outputs": [
    {
     "data": {
      "text/plain": [
       "np.float64(685936688.9820067)"
      ]
     },
     "execution_count": 11,
     "metadata": {},
     "output_type": "execute_result"
    }
   ],
   "source": [
    "desv = X['SALDO_ATUAL'].std()\n",
    "desv"
   ]
  },
  {
   "cell_type": "code",
   "execution_count": 12,
   "id": "fa8c1af1",
   "metadata": {},
   "outputs": [
    {
     "data": {
      "application/vnd.microsoft.datawrangler.viewer.v0+json": {
       "columns": [
        {
         "name": "index",
         "rawType": "int64",
         "type": "integer"
        },
        {
         "name": "SALDO_ATUAL",
         "rawType": "float64",
         "type": "float"
        }
       ],
       "ref": "936a9291-fbd0-4cc0-bd77-523454e702bf",
       "rows": [
        [
         "127",
         "2541111000.0"
        ],
        [
         "160",
         "21544411255.0"
        ]
       ],
       "shape": {
        "columns": 1,
        "rows": 2
       }
      },
      "text/plain": [
       "127    2.541111e+09\n",
       "160    2.154441e+10\n",
       "Name: SALDO_ATUAL, dtype: float64"
      ]
     },
     "execution_count": 12,
     "metadata": {},
     "output_type": "execute_result"
    }
   ],
   "source": [
    "X.loc[X['SALDO_ATUAL']>=2 * desv, 'SALDO_ATUAL']"
   ]
  },
  {
   "cell_type": "code",
   "execution_count": 13,
   "id": "cdbd71a8",
   "metadata": {},
   "outputs": [
    {
     "data": {
      "text/plain": [
       "np.float64(2323.0)"
      ]
     },
     "execution_count": 13,
     "metadata": {},
     "output_type": "execute_result"
    }
   ],
   "source": [
    "mediana = X['SALDO_ATUAL'].median()\n",
    "mediana"
   ]
  },
  {
   "cell_type": "code",
   "execution_count": 14,
   "id": "1ce492c1",
   "metadata": {},
   "outputs": [
    {
     "data": {
      "application/vnd.microsoft.datawrangler.viewer.v0+json": {
       "columns": [
        {
         "name": "index",
         "rawType": "int64",
         "type": "integer"
        },
        {
         "name": "SALDO_ATUAL",
         "rawType": "float64",
         "type": "float"
        },
        {
         "name": "RESIDENCIADESDE",
         "rawType": "int64",
         "type": "integer"
        },
        {
         "name": "IDADE",
         "rawType": "int64",
         "type": "integer"
        },
        {
         "name": "OUTROSPLANOSPGTO",
         "rawType": "object",
         "type": "string"
        },
        {
         "name": "DATA",
         "rawType": "object",
         "type": "string"
        },
        {
         "name": "ESTADOCIVIL",
         "rawType": "object",
         "type": "string"
        },
        {
         "name": "PROPOSITO",
         "rawType": "object",
         "type": "string"
        }
       ],
       "ref": "950ff254-4c97-4d3d-9f67-80a418687cb2",
       "rows": [],
       "shape": {
        "columns": 7,
        "rows": 0
       }
      },
      "text/html": [
       "<div>\n",
       "<style scoped>\n",
       "    .dataframe tbody tr th:only-of-type {\n",
       "        vertical-align: middle;\n",
       "    }\n",
       "\n",
       "    .dataframe tbody tr th {\n",
       "        vertical-align: top;\n",
       "    }\n",
       "\n",
       "    .dataframe thead th {\n",
       "        text-align: right;\n",
       "    }\n",
       "</style>\n",
       "<table border=\"1\" class=\"dataframe\">\n",
       "  <thead>\n",
       "    <tr style=\"text-align: right;\">\n",
       "      <th></th>\n",
       "      <th>SALDO_ATUAL</th>\n",
       "      <th>RESIDENCIADESDE</th>\n",
       "      <th>IDADE</th>\n",
       "      <th>OUTROSPLANOSPGTO</th>\n",
       "      <th>DATA</th>\n",
       "      <th>ESTADOCIVIL</th>\n",
       "      <th>PROPOSITO</th>\n",
       "    </tr>\n",
       "  </thead>\n",
       "  <tbody>\n",
       "  </tbody>\n",
       "</table>\n",
       "</div>"
      ],
      "text/plain": [
       "Empty DataFrame\n",
       "Columns: [SALDO_ATUAL, RESIDENCIADESDE, IDADE, OUTROSPLANOSPGTO, DATA, ESTADOCIVIL, PROPOSITO]\n",
       "Index: []"
      ]
     },
     "execution_count": 14,
     "metadata": {},
     "output_type": "execute_result"
    }
   ],
   "source": [
    "X.loc[X['SALDO_ATUAL']>=2 * desv, 'SALDO_ATUAL'] = mediana\n",
    "X.loc[X['SALDO_ATUAL']>=2 * desv]"
   ]
  },
  {
   "cell_type": "code",
   "execution_count": 16,
   "id": "224db833",
   "metadata": {},
   "outputs": [
    {
     "data": {
      "application/vnd.microsoft.datawrangler.viewer.v0+json": {
       "columns": [
        {
         "name": "PROPOSITO",
         "rawType": "object",
         "type": "string"
        },
        {
         "name": "0",
         "rawType": "int64",
         "type": "integer"
        }
       ],
       "ref": "7f05a0a0-610b-43fe-97bd-bfafa6ed70e3",
       "rows": [
        [
         "Eletrodomésticos",
         "12"
        ],
        [
         "carro novo",
         "234"
        ],
        [
         "carro usado",
         "103"
        ],
        [
         "educação",
         "50"
        ],
        [
         "mobilia/equipamento",
         "181"
        ],
        [
         "negócios",
         "97"
        ],
        [
         "obras",
         "22"
        ],
        [
         "outros",
         "12"
        ],
        [
         "qualificação",
         "9"
        ],
        [
         "radio/tv",
         "280"
        ]
       ],
       "shape": {
        "columns": 1,
        "rows": 10
       }
      },
      "text/plain": [
       "PROPOSITO\n",
       "Eletrodomésticos        12\n",
       "carro novo             234\n",
       "carro usado            103\n",
       "educação                50\n",
       "mobilia/equipamento    181\n",
       "negócios                97\n",
       "obras                   22\n",
       "outros                  12\n",
       "qualificação             9\n",
       "radio/tv               280\n",
       "dtype: int64"
      ]
     },
     "execution_count": 16,
     "metadata": {},
     "output_type": "execute_result"
    }
   ],
   "source": [
    "agrupado = X.groupby(['PROPOSITO']).size()\n",
    "agrupado"
   ]
  },
  {
   "cell_type": "code",
   "execution_count": 18,
   "id": "e2f5f788",
   "metadata": {},
   "outputs": [
    {
     "data": {
      "application/vnd.microsoft.datawrangler.viewer.v0+json": {
       "columns": [
        {
         "name": "PROPOSITO",
         "rawType": "object",
         "type": "string"
        },
        {
         "name": "0",
         "rawType": "int64",
         "type": "integer"
        }
       ],
       "ref": "b06aa2d4-ac72-4d96-95ef-a2720afa90bd",
       "rows": [
        [
         "carro novo",
         "234"
        ],
        [
         "carro usado",
         "103"
        ],
        [
         "educação",
         "50"
        ],
        [
         "mobilia/equipamento",
         "181"
        ],
        [
         "negócios",
         "97"
        ],
        [
         "obras",
         "22"
        ],
        [
         "outros",
         "33"
        ],
        [
         "radio/tv",
         "280"
        ]
       ],
       "shape": {
        "columns": 1,
        "rows": 8
       }
      },
      "text/plain": [
       "PROPOSITO\n",
       "carro novo             234\n",
       "carro usado            103\n",
       "educação                50\n",
       "mobilia/equipamento    181\n",
       "negócios                97\n",
       "obras                   22\n",
       "outros                  33\n",
       "radio/tv               280\n",
       "dtype: int64"
      ]
     },
     "execution_count": 18,
     "metadata": {},
     "output_type": "execute_result"
    }
   ],
   "source": [
    "X.loc[X['PROPOSITO'] == 'Eletrodomésticos','PROPOSITO']= 'outros'\n",
    "X.loc[X['PROPOSITO'] == 'qualificação','PROPOSITO']= 'outros'\n",
    "agrupado = X.groupby(['PROPOSITO']).size()\n",
    "agrupado"
   ]
  },
  {
   "cell_type": "code",
   "execution_count": 22,
   "id": "7b2e68d7",
   "metadata": {},
   "outputs": [
    {
     "data": {
      "application/vnd.microsoft.datawrangler.viewer.v0+json": {
       "columns": [
        {
         "name": "index",
         "rawType": "int64",
         "type": "integer"
        },
        {
         "name": "DATA",
         "rawType": "datetime64[ns]",
         "type": "datetime"
        }
       ],
       "ref": "f4277088-9dec-4550-81a2-0e1860ff8f55",
       "rows": [
        [
         "0",
         "2019-01-01 00:00:00"
        ],
        [
         "1",
         "2020-01-01 00:00:00"
        ],
        [
         "2",
         "2020-01-02 00:00:00"
        ],
        [
         "3",
         "2019-01-02 00:00:00"
        ],
        [
         "4",
         "2018-01-03 00:00:00"
        ],
        [
         "5",
         "2020-01-04 00:00:00"
        ],
        [
         "6",
         "2019-01-06 00:00:00"
        ],
        [
         "7",
         "2019-01-06 00:00:00"
        ],
        [
         "8",
         "2020-01-06 00:00:00"
        ],
        [
         "9",
         "2020-01-06 00:00:00"
        ],
        [
         "10",
         "2019-01-08 00:00:00"
        ],
        [
         "11",
         "2018-01-09 00:00:00"
        ],
        [
         "12",
         "2019-01-10 00:00:00"
        ],
        [
         "13",
         "2020-01-12 00:00:00"
        ],
        [
         "14",
         "2018-01-12 00:00:00"
        ],
        [
         "15",
         "2020-01-13 00:00:00"
        ],
        [
         "16",
         "2019-01-13 00:00:00"
        ],
        [
         "17",
         "2019-01-14 00:00:00"
        ],
        [
         "18",
         "2019-01-14 00:00:00"
        ],
        [
         "19",
         "2018-01-15 00:00:00"
        ],
        [
         "20",
         "2019-01-17 00:00:00"
        ],
        [
         "21",
         "2020-01-17 00:00:00"
        ],
        [
         "22",
         "2018-01-17 00:00:00"
        ],
        [
         "23",
         "2019-01-18 00:00:00"
        ],
        [
         "24",
         "2019-01-19 00:00:00"
        ],
        [
         "25",
         "2018-01-21 00:00:00"
        ],
        [
         "26",
         "2018-01-21 00:00:00"
        ],
        [
         "27",
         "2020-01-22 00:00:00"
        ],
        [
         "28",
         "2018-01-22 00:00:00"
        ],
        [
         "29",
         "2019-01-23 00:00:00"
        ],
        [
         "30",
         "2018-01-23 00:00:00"
        ],
        [
         "31",
         "2020-01-24 00:00:00"
        ],
        [
         "32",
         "2019-01-24 00:00:00"
        ],
        [
         "33",
         "2020-01-24 00:00:00"
        ],
        [
         "34",
         "2020-01-26 00:00:00"
        ],
        [
         "35",
         "2019-01-27 00:00:00"
        ],
        [
         "36",
         "2018-01-27 00:00:00"
        ],
        [
         "37",
         "2020-01-27 00:00:00"
        ],
        [
         "38",
         "2020-01-27 00:00:00"
        ],
        [
         "39",
         "2019-01-29 00:00:00"
        ],
        [
         "40",
         "2018-01-30 00:00:00"
        ],
        [
         "41",
         "2018-01-30 00:00:00"
        ],
        [
         "42",
         "2019-02-01 00:00:00"
        ],
        [
         "43",
         "2019-02-02 00:00:00"
        ],
        [
         "44",
         "2019-02-02 00:00:00"
        ],
        [
         "45",
         "2019-02-03 00:00:00"
        ],
        [
         "46",
         "2020-02-05 00:00:00"
        ],
        [
         "47",
         "2018-02-08 00:00:00"
        ],
        [
         "48",
         "2020-02-09 00:00:00"
        ],
        [
         "49",
         "2020-02-09 00:00:00"
        ]
       ],
       "shape": {
        "columns": 1,
        "rows": 1000
       }
      },
      "text/plain": [
       "0     2019-01-01\n",
       "1     2020-01-01\n",
       "2     2020-01-02\n",
       "3     2019-01-02\n",
       "4     2018-01-03\n",
       "         ...    \n",
       "995   2018-06-29\n",
       "996   2018-06-30\n",
       "997   2018-07-03\n",
       "998   2019-07-04\n",
       "999   2018-07-05\n",
       "Name: DATA, Length: 1000, dtype: datetime64[ns]"
      ]
     },
     "execution_count": 22,
     "metadata": {},
     "output_type": "execute_result"
    }
   ],
   "source": [
    "X['DATA'] = pd.to_datetime(X['DATA'], format='%d/%m/%Y')\n",
    "X['DATA']"
   ]
  },
  {
   "cell_type": "code",
   "execution_count": 23,
   "id": "b05bf116",
   "metadata": {},
   "outputs": [
    {
     "data": {
      "application/vnd.microsoft.datawrangler.viewer.v0+json": {
       "columns": [
        {
         "name": "index",
         "rawType": "int64",
         "type": "integer"
        },
        {
         "name": "DIASEMANA",
         "rawType": "object",
         "type": "string"
        }
       ],
       "ref": "d393806b-8a8d-4410-ad0e-5bb14bdab32f",
       "rows": [
        [
         "0",
         "Tuesday"
        ],
        [
         "1",
         "Wednesday"
        ],
        [
         "2",
         "Thursday"
        ],
        [
         "3",
         "Wednesday"
        ],
        [
         "4",
         "Wednesday"
        ],
        [
         "5",
         "Saturday"
        ],
        [
         "6",
         "Sunday"
        ],
        [
         "7",
         "Sunday"
        ],
        [
         "8",
         "Monday"
        ],
        [
         "9",
         "Monday"
        ],
        [
         "10",
         "Tuesday"
        ],
        [
         "11",
         "Tuesday"
        ],
        [
         "12",
         "Thursday"
        ],
        [
         "13",
         "Sunday"
        ],
        [
         "14",
         "Friday"
        ],
        [
         "15",
         "Monday"
        ],
        [
         "16",
         "Sunday"
        ],
        [
         "17",
         "Monday"
        ],
        [
         "18",
         "Monday"
        ],
        [
         "19",
         "Monday"
        ],
        [
         "20",
         "Thursday"
        ],
        [
         "21",
         "Friday"
        ],
        [
         "22",
         "Wednesday"
        ],
        [
         "23",
         "Friday"
        ],
        [
         "24",
         "Saturday"
        ],
        [
         "25",
         "Sunday"
        ],
        [
         "26",
         "Sunday"
        ],
        [
         "27",
         "Wednesday"
        ],
        [
         "28",
         "Monday"
        ],
        [
         "29",
         "Wednesday"
        ],
        [
         "30",
         "Tuesday"
        ],
        [
         "31",
         "Friday"
        ],
        [
         "32",
         "Thursday"
        ],
        [
         "33",
         "Friday"
        ],
        [
         "34",
         "Sunday"
        ],
        [
         "35",
         "Sunday"
        ],
        [
         "36",
         "Saturday"
        ],
        [
         "37",
         "Monday"
        ],
        [
         "38",
         "Monday"
        ],
        [
         "39",
         "Tuesday"
        ],
        [
         "40",
         "Tuesday"
        ],
        [
         "41",
         "Tuesday"
        ],
        [
         "42",
         "Friday"
        ],
        [
         "43",
         "Saturday"
        ],
        [
         "44",
         "Saturday"
        ],
        [
         "45",
         "Sunday"
        ],
        [
         "46",
         "Wednesday"
        ],
        [
         "47",
         "Thursday"
        ],
        [
         "48",
         "Sunday"
        ],
        [
         "49",
         "Sunday"
        ]
       ],
       "shape": {
        "columns": 1,
        "rows": 1000
       }
      },
      "text/plain": [
       "0        Tuesday\n",
       "1      Wednesday\n",
       "2       Thursday\n",
       "3      Wednesday\n",
       "4      Wednesday\n",
       "         ...    \n",
       "995       Friday\n",
       "996     Saturday\n",
       "997      Tuesday\n",
       "998     Thursday\n",
       "999     Thursday\n",
       "Name: DIASEMANA, Length: 1000, dtype: object"
      ]
     },
     "execution_count": 23,
     "metadata": {},
     "output_type": "execute_result"
    }
   ],
   "source": [
    "X['ANO'] = X['DATA'].dt.year\n",
    "X['MES'] = X['DATA'].dt.month\n",
    "X['DIASEMANA'] = X['DATA'].dt.day_name()\n",
    "X['DIASEMANA']"
   ]
  },
  {
   "cell_type": "code",
   "execution_count": 24,
   "id": "a14f3636",
   "metadata": {},
   "outputs": [
    {
     "data": {
      "application/vnd.microsoft.datawrangler.viewer.v0+json": {
       "columns": [
        {
         "name": "index",
         "rawType": "int64",
         "type": "integer"
        },
        {
         "name": "SALDO_ATUAL",
         "rawType": "float64",
         "type": "float"
        },
        {
         "name": "RESIDENCIADESDE",
         "rawType": "int64",
         "type": "integer"
        },
        {
         "name": "IDADE",
         "rawType": "int64",
         "type": "integer"
        },
        {
         "name": "OUTROSPLANOSPGTO",
         "rawType": "object",
         "type": "string"
        },
        {
         "name": "DATA",
         "rawType": "datetime64[ns]",
         "type": "datetime"
        },
        {
         "name": "ESTADOCIVIL",
         "rawType": "int64",
         "type": "integer"
        },
        {
         "name": "PROPOSITO",
         "rawType": "int64",
         "type": "integer"
        },
        {
         "name": "ANO",
         "rawType": "int32",
         "type": "integer"
        },
        {
         "name": "MES",
         "rawType": "int32",
         "type": "integer"
        },
        {
         "name": "DIASEMANA",
         "rawType": "int64",
         "type": "integer"
        }
       ],
       "ref": "56efb22b-5e4a-4ffa-bd23-786b29031220",
       "rows": [
        [
         "0",
         "1169.0",
         "4",
         "67",
         "nenhum",
         "2019-01-01 00:00:00",
         "3",
         "7",
         "2019",
         "1",
         "5"
        ],
        [
         "1",
         "5951.0",
         "2",
         "22",
         "nenhum",
         "2020-01-01 00:00:00",
         "0",
         "7",
         "2020",
         "1",
         "6"
        ],
        [
         "2",
         "2096.0",
         "3",
         "49",
         "nenhum",
         "2020-01-02 00:00:00",
         "3",
         "2",
         "2020",
         "1",
         "4"
        ],
        [
         "3",
         "7882.0",
         "4",
         "45",
         "nenhum",
         "2019-01-02 00:00:00",
         "3",
         "3",
         "2019",
         "1",
         "6"
        ],
        [
         "4",
         "4870.0",
         "4",
         "53",
         "nenhum",
         "2018-01-03 00:00:00",
         "3",
         "0",
         "2018",
         "1",
         "6"
        ]
       ],
       "shape": {
        "columns": 10,
        "rows": 5
       }
      },
      "text/html": [
       "<div>\n",
       "<style scoped>\n",
       "    .dataframe tbody tr th:only-of-type {\n",
       "        vertical-align: middle;\n",
       "    }\n",
       "\n",
       "    .dataframe tbody tr th {\n",
       "        vertical-align: top;\n",
       "    }\n",
       "\n",
       "    .dataframe thead th {\n",
       "        text-align: right;\n",
       "    }\n",
       "</style>\n",
       "<table border=\"1\" class=\"dataframe\">\n",
       "  <thead>\n",
       "    <tr style=\"text-align: right;\">\n",
       "      <th></th>\n",
       "      <th>SALDO_ATUAL</th>\n",
       "      <th>RESIDENCIADESDE</th>\n",
       "      <th>IDADE</th>\n",
       "      <th>OUTROSPLANOSPGTO</th>\n",
       "      <th>DATA</th>\n",
       "      <th>ESTADOCIVIL</th>\n",
       "      <th>PROPOSITO</th>\n",
       "      <th>ANO</th>\n",
       "      <th>MES</th>\n",
       "      <th>DIASEMANA</th>\n",
       "    </tr>\n",
       "  </thead>\n",
       "  <tbody>\n",
       "    <tr>\n",
       "      <th>0</th>\n",
       "      <td>1169.0</td>\n",
       "      <td>4</td>\n",
       "      <td>67</td>\n",
       "      <td>nenhum</td>\n",
       "      <td>2019-01-01</td>\n",
       "      <td>3</td>\n",
       "      <td>7</td>\n",
       "      <td>2019</td>\n",
       "      <td>1</td>\n",
       "      <td>5</td>\n",
       "    </tr>\n",
       "    <tr>\n",
       "      <th>1</th>\n",
       "      <td>5951.0</td>\n",
       "      <td>2</td>\n",
       "      <td>22</td>\n",
       "      <td>nenhum</td>\n",
       "      <td>2020-01-01</td>\n",
       "      <td>0</td>\n",
       "      <td>7</td>\n",
       "      <td>2020</td>\n",
       "      <td>1</td>\n",
       "      <td>6</td>\n",
       "    </tr>\n",
       "    <tr>\n",
       "      <th>2</th>\n",
       "      <td>2096.0</td>\n",
       "      <td>3</td>\n",
       "      <td>49</td>\n",
       "      <td>nenhum</td>\n",
       "      <td>2020-01-02</td>\n",
       "      <td>3</td>\n",
       "      <td>2</td>\n",
       "      <td>2020</td>\n",
       "      <td>1</td>\n",
       "      <td>4</td>\n",
       "    </tr>\n",
       "    <tr>\n",
       "      <th>3</th>\n",
       "      <td>7882.0</td>\n",
       "      <td>4</td>\n",
       "      <td>45</td>\n",
       "      <td>nenhum</td>\n",
       "      <td>2019-01-02</td>\n",
       "      <td>3</td>\n",
       "      <td>3</td>\n",
       "      <td>2019</td>\n",
       "      <td>1</td>\n",
       "      <td>6</td>\n",
       "    </tr>\n",
       "    <tr>\n",
       "      <th>4</th>\n",
       "      <td>4870.0</td>\n",
       "      <td>4</td>\n",
       "      <td>53</td>\n",
       "      <td>nenhum</td>\n",
       "      <td>2018-01-03</td>\n",
       "      <td>3</td>\n",
       "      <td>0</td>\n",
       "      <td>2018</td>\n",
       "      <td>1</td>\n",
       "      <td>6</td>\n",
       "    </tr>\n",
       "  </tbody>\n",
       "</table>\n",
       "</div>"
      ],
      "text/plain": [
       "   SALDO_ATUAL  RESIDENCIADESDE  IDADE OUTROSPLANOSPGTO       DATA  \\\n",
       "0       1169.0                4     67           nenhum 2019-01-01   \n",
       "1       5951.0                2     22           nenhum 2020-01-01   \n",
       "2       2096.0                3     49           nenhum 2020-01-02   \n",
       "3       7882.0                4     45           nenhum 2019-01-02   \n",
       "4       4870.0                4     53           nenhum 2018-01-03   \n",
       "\n",
       "   ESTADOCIVIL  PROPOSITO   ANO  MES  DIASEMANA  \n",
       "0            3          7  2019    1          5  \n",
       "1            0          7  2020    1          6  \n",
       "2            3          2  2020    1          4  \n",
       "3            3          3  2019    1          6  \n",
       "4            3          0  2018    1          6  "
      ]
     },
     "execution_count": 24,
     "metadata": {},
     "output_type": "execute_result"
    }
   ],
   "source": [
    "labelencoder1 = LabelEncoder()\n",
    "X['ESTADOCIVIL'] = labelencoder1.fit_transform(X['ESTADOCIVIL'])\n",
    "X['PROPOSITO'] = labelencoder1.fit_transform(X['PROPOSITO'])\n",
    "X['DIASEMANA'] = labelencoder1.fit_transform(X['DIASEMANA'])\n",
    "\n",
    "X.head()"
   ]
  },
  {
   "cell_type": "code",
   "execution_count": 25,
   "id": "0aee7b6e",
   "metadata": {},
   "outputs": [
    {
     "data": {
      "application/vnd.microsoft.datawrangler.viewer.v0+json": {
       "columns": [
        {
         "name": "index",
         "rawType": "int64",
         "type": "integer"
        },
        {
         "name": "OUTROS_banco",
         "rawType": "bool",
         "type": "boolean"
        },
        {
         "name": "OUTROS_nenhum",
         "rawType": "bool",
         "type": "boolean"
        },
        {
         "name": "OUTROS_stores",
         "rawType": "bool",
         "type": "boolean"
        }
       ],
       "ref": "46895cbc-ec19-4bbc-8634-d18ed5183a88",
       "rows": [
        [
         "0",
         "False",
         "True",
         "False"
        ],
        [
         "1",
         "False",
         "True",
         "False"
        ],
        [
         "2",
         "False",
         "True",
         "False"
        ],
        [
         "3",
         "False",
         "True",
         "False"
        ],
        [
         "4",
         "False",
         "True",
         "False"
        ],
        [
         "5",
         "False",
         "True",
         "False"
        ],
        [
         "6",
         "False",
         "True",
         "False"
        ],
        [
         "7",
         "False",
         "True",
         "False"
        ],
        [
         "8",
         "False",
         "True",
         "False"
        ],
        [
         "9",
         "False",
         "True",
         "False"
        ],
        [
         "10",
         "False",
         "True",
         "False"
        ],
        [
         "11",
         "False",
         "True",
         "False"
        ],
        [
         "12",
         "False",
         "True",
         "False"
        ],
        [
         "13",
         "False",
         "True",
         "False"
        ],
        [
         "14",
         "False",
         "True",
         "False"
        ],
        [
         "15",
         "False",
         "True",
         "False"
        ],
        [
         "16",
         "False",
         "True",
         "False"
        ],
        [
         "17",
         "True",
         "False",
         "False"
        ],
        [
         "18",
         "False",
         "True",
         "False"
        ],
        [
         "19",
         "False",
         "True",
         "False"
        ],
        [
         "20",
         "False",
         "True",
         "False"
        ],
        [
         "21",
         "False",
         "True",
         "False"
        ],
        [
         "22",
         "False",
         "True",
         "False"
        ],
        [
         "23",
         "False",
         "True",
         "False"
        ],
        [
         "24",
         "False",
         "True",
         "False"
        ],
        [
         "25",
         "True",
         "False",
         "False"
        ],
        [
         "26",
         "False",
         "True",
         "False"
        ],
        [
         "27",
         "False",
         "True",
         "False"
        ],
        [
         "28",
         "False",
         "True",
         "False"
        ],
        [
         "29",
         "False",
         "True",
         "False"
        ],
        [
         "30",
         "True",
         "False",
         "False"
        ],
        [
         "31",
         "False",
         "False",
         "True"
        ],
        [
         "32",
         "False",
         "True",
         "False"
        ],
        [
         "33",
         "False",
         "True",
         "False"
        ],
        [
         "34",
         "True",
         "False",
         "False"
        ],
        [
         "35",
         "False",
         "True",
         "False"
        ],
        [
         "36",
         "True",
         "False",
         "False"
        ],
        [
         "37",
         "False",
         "False",
         "True"
        ],
        [
         "38",
         "False",
         "True",
         "False"
        ],
        [
         "39",
         "False",
         "True",
         "False"
        ],
        [
         "40",
         "True",
         "False",
         "False"
        ],
        [
         "41",
         "False",
         "True",
         "False"
        ],
        [
         "42",
         "False",
         "True",
         "False"
        ],
        [
         "43",
         "False",
         "True",
         "False"
        ],
        [
         "44",
         "False",
         "False",
         "True"
        ],
        [
         "45",
         "False",
         "True",
         "False"
        ],
        [
         "46",
         "False",
         "True",
         "False"
        ],
        [
         "47",
         "False",
         "True",
         "False"
        ],
        [
         "48",
         "False",
         "True",
         "False"
        ],
        [
         "49",
         "False",
         "True",
         "False"
        ]
       ],
       "shape": {
        "columns": 3,
        "rows": 1000
       }
      },
      "text/html": [
       "<div>\n",
       "<style scoped>\n",
       "    .dataframe tbody tr th:only-of-type {\n",
       "        vertical-align: middle;\n",
       "    }\n",
       "\n",
       "    .dataframe tbody tr th {\n",
       "        vertical-align: top;\n",
       "    }\n",
       "\n",
       "    .dataframe thead th {\n",
       "        text-align: right;\n",
       "    }\n",
       "</style>\n",
       "<table border=\"1\" class=\"dataframe\">\n",
       "  <thead>\n",
       "    <tr style=\"text-align: right;\">\n",
       "      <th></th>\n",
       "      <th>OUTROS_banco</th>\n",
       "      <th>OUTROS_nenhum</th>\n",
       "      <th>OUTROS_stores</th>\n",
       "    </tr>\n",
       "  </thead>\n",
       "  <tbody>\n",
       "    <tr>\n",
       "      <th>0</th>\n",
       "      <td>False</td>\n",
       "      <td>True</td>\n",
       "      <td>False</td>\n",
       "    </tr>\n",
       "    <tr>\n",
       "      <th>1</th>\n",
       "      <td>False</td>\n",
       "      <td>True</td>\n",
       "      <td>False</td>\n",
       "    </tr>\n",
       "    <tr>\n",
       "      <th>2</th>\n",
       "      <td>False</td>\n",
       "      <td>True</td>\n",
       "      <td>False</td>\n",
       "    </tr>\n",
       "    <tr>\n",
       "      <th>3</th>\n",
       "      <td>False</td>\n",
       "      <td>True</td>\n",
       "      <td>False</td>\n",
       "    </tr>\n",
       "    <tr>\n",
       "      <th>4</th>\n",
       "      <td>False</td>\n",
       "      <td>True</td>\n",
       "      <td>False</td>\n",
       "    </tr>\n",
       "    <tr>\n",
       "      <th>...</th>\n",
       "      <td>...</td>\n",
       "      <td>...</td>\n",
       "      <td>...</td>\n",
       "    </tr>\n",
       "    <tr>\n",
       "      <th>995</th>\n",
       "      <td>False</td>\n",
       "      <td>True</td>\n",
       "      <td>False</td>\n",
       "    </tr>\n",
       "    <tr>\n",
       "      <th>996</th>\n",
       "      <td>False</td>\n",
       "      <td>True</td>\n",
       "      <td>False</td>\n",
       "    </tr>\n",
       "    <tr>\n",
       "      <th>997</th>\n",
       "      <td>False</td>\n",
       "      <td>True</td>\n",
       "      <td>False</td>\n",
       "    </tr>\n",
       "    <tr>\n",
       "      <th>998</th>\n",
       "      <td>False</td>\n",
       "      <td>True</td>\n",
       "      <td>False</td>\n",
       "    </tr>\n",
       "    <tr>\n",
       "      <th>999</th>\n",
       "      <td>False</td>\n",
       "      <td>True</td>\n",
       "      <td>False</td>\n",
       "    </tr>\n",
       "  </tbody>\n",
       "</table>\n",
       "<p>1000 rows × 3 columns</p>\n",
       "</div>"
      ],
      "text/plain": [
       "     OUTROS_banco  OUTROS_nenhum  OUTROS_stores\n",
       "0           False           True          False\n",
       "1           False           True          False\n",
       "2           False           True          False\n",
       "3           False           True          False\n",
       "4           False           True          False\n",
       "..            ...            ...            ...\n",
       "995         False           True          False\n",
       "996         False           True          False\n",
       "997         False           True          False\n",
       "998         False           True          False\n",
       "999         False           True          False\n",
       "\n",
       "[1000 rows x 3 columns]"
      ]
     },
     "execution_count": 25,
     "metadata": {},
     "output_type": "execute_result"
    }
   ],
   "source": [
    "z = pd.get_dummies(X['OUTROSPLANOSPGTO'], prefix='OUTROS')\n",
    "z"
   ]
  }
 ],
 "metadata": {
  "kernelspec": {
   "display_name": ".venv (3.12.10)",
   "language": "python",
   "name": "python3"
  },
  "language_info": {
   "codemirror_mode": {
    "name": "ipython",
    "version": 3
   },
   "file_extension": ".py",
   "mimetype": "text/x-python",
   "name": "python",
   "nbconvert_exporter": "python",
   "pygments_lexer": "ipython3",
   "version": "3.12.10"
  }
 },
 "nbformat": 4,
 "nbformat_minor": 5
}
