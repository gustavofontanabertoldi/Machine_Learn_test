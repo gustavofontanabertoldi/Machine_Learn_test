{
 "cells": [
  {
   "cell_type": "code",
   "execution_count": 1,
   "id": "ce8250c2",
   "metadata": {},
   "outputs": [],
   "source": [
    "import pandas as pd\n",
    "from sklearn.preprocessing import LabelEncoder, StandardScaler"
   ]
  },
  {
   "cell_type": "code",
   "execution_count": 2,
   "id": "6b1c432c",
   "metadata": {},
   "outputs": [
    {
     "data": {
      "text/plain": [
       "(1000, 8)"
      ]
     },
     "execution_count": 2,
     "metadata": {},
     "output_type": "execute_result"
    }
   ],
   "source": [
    "dataset = pd.read_csv(r'C:\\Users\\gustavofb\\Documents\\teste_ia\\data_archives\\credit_simple.csv', sep=';')\n",
    "dataset.shape\n"
   ]
  },
  {
   "cell_type": "code",
   "execution_count": 3,
   "id": "b027c744",
   "metadata": {},
   "outputs": [
    {
     "data": {
      "application/vnd.microsoft.datawrangler.viewer.v0+json": {
       "columns": [
        {
         "name": "index",
         "rawType": "int64",
         "type": "integer"
        },
        {
         "name": "SALDO_ATUAL",
         "rawType": "float64",
         "type": "float"
        },
        {
         "name": "RESIDENCIADESDE",
         "rawType": "int64",
         "type": "integer"
        },
        {
         "name": "IDADE",
         "rawType": "int64",
         "type": "integer"
        },
        {
         "name": "OUTROSPLANOSPGTO",
         "rawType": "object",
         "type": "string"
        },
        {
         "name": "DATA",
         "rawType": "object",
         "type": "string"
        },
        {
         "name": "ESTADOCIVIL",
         "rawType": "object",
         "type": "string"
        },
        {
         "name": "PROPOSITO",
         "rawType": "object",
         "type": "string"
        },
        {
         "name": "CLASSE",
         "rawType": "object",
         "type": "string"
        }
       ],
       "ref": "0737f068-2169-4b9d-867b-cda314f3a701",
       "rows": [
        [
         "0",
         "1169.0",
         "4",
         "67",
         "nenhum",
         "01/01/2019",
         "masculino solteiro",
         "radio/tv",
         "bom"
        ],
        [
         "1",
         "5951.0",
         "2",
         "22",
         "nenhum",
         "01/01/2020",
         "fem div/cas",
         "radio/tv",
         "ruim"
        ],
        [
         "2",
         "2096.0",
         "3",
         "49",
         "nenhum",
         "02/01/2020",
         "masculino solteiro",
         "educação",
         "bom"
        ],
        [
         "3",
         "7882.0",
         "4",
         "45",
         "nenhum",
         "02/01/2019",
         "masculino solteiro",
         "mobilia/equipamento",
         "bom"
        ],
        [
         "4",
         "4870.0",
         "4",
         "53",
         "nenhum",
         "03/01/2018",
         "masculino solteiro",
         "carro novo",
         "ruim"
        ]
       ],
       "shape": {
        "columns": 8,
        "rows": 5
       }
      },
      "text/html": [
       "<div>\n",
       "<style scoped>\n",
       "    .dataframe tbody tr th:only-of-type {\n",
       "        vertical-align: middle;\n",
       "    }\n",
       "\n",
       "    .dataframe tbody tr th {\n",
       "        vertical-align: top;\n",
       "    }\n",
       "\n",
       "    .dataframe thead th {\n",
       "        text-align: right;\n",
       "    }\n",
       "</style>\n",
       "<table border=\"1\" class=\"dataframe\">\n",
       "  <thead>\n",
       "    <tr style=\"text-align: right;\">\n",
       "      <th></th>\n",
       "      <th>SALDO_ATUAL</th>\n",
       "      <th>RESIDENCIADESDE</th>\n",
       "      <th>IDADE</th>\n",
       "      <th>OUTROSPLANOSPGTO</th>\n",
       "      <th>DATA</th>\n",
       "      <th>ESTADOCIVIL</th>\n",
       "      <th>PROPOSITO</th>\n",
       "      <th>CLASSE</th>\n",
       "    </tr>\n",
       "  </thead>\n",
       "  <tbody>\n",
       "    <tr>\n",
       "      <th>0</th>\n",
       "      <td>1169.0</td>\n",
       "      <td>4</td>\n",
       "      <td>67</td>\n",
       "      <td>nenhum</td>\n",
       "      <td>01/01/2019</td>\n",
       "      <td>masculino solteiro</td>\n",
       "      <td>radio/tv</td>\n",
       "      <td>bom</td>\n",
       "    </tr>\n",
       "    <tr>\n",
       "      <th>1</th>\n",
       "      <td>5951.0</td>\n",
       "      <td>2</td>\n",
       "      <td>22</td>\n",
       "      <td>nenhum</td>\n",
       "      <td>01/01/2020</td>\n",
       "      <td>fem div/cas</td>\n",
       "      <td>radio/tv</td>\n",
       "      <td>ruim</td>\n",
       "    </tr>\n",
       "    <tr>\n",
       "      <th>2</th>\n",
       "      <td>2096.0</td>\n",
       "      <td>3</td>\n",
       "      <td>49</td>\n",
       "      <td>nenhum</td>\n",
       "      <td>02/01/2020</td>\n",
       "      <td>masculino solteiro</td>\n",
       "      <td>educação</td>\n",
       "      <td>bom</td>\n",
       "    </tr>\n",
       "    <tr>\n",
       "      <th>3</th>\n",
       "      <td>7882.0</td>\n",
       "      <td>4</td>\n",
       "      <td>45</td>\n",
       "      <td>nenhum</td>\n",
       "      <td>02/01/2019</td>\n",
       "      <td>masculino solteiro</td>\n",
       "      <td>mobilia/equipamento</td>\n",
       "      <td>bom</td>\n",
       "    </tr>\n",
       "    <tr>\n",
       "      <th>4</th>\n",
       "      <td>4870.0</td>\n",
       "      <td>4</td>\n",
       "      <td>53</td>\n",
       "      <td>nenhum</td>\n",
       "      <td>03/01/2018</td>\n",
       "      <td>masculino solteiro</td>\n",
       "      <td>carro novo</td>\n",
       "      <td>ruim</td>\n",
       "    </tr>\n",
       "  </tbody>\n",
       "</table>\n",
       "</div>"
      ],
      "text/plain": [
       "   SALDO_ATUAL  RESIDENCIADESDE  IDADE OUTROSPLANOSPGTO        DATA  \\\n",
       "0       1169.0                4     67           nenhum  01/01/2019   \n",
       "1       5951.0                2     22           nenhum  01/01/2020   \n",
       "2       2096.0                3     49           nenhum  02/01/2020   \n",
       "3       7882.0                4     45           nenhum  02/01/2019   \n",
       "4       4870.0                4     53           nenhum  03/01/2018   \n",
       "\n",
       "          ESTADOCIVIL            PROPOSITO CLASSE  \n",
       "0  masculino solteiro             radio/tv    bom  \n",
       "1         fem div/cas             radio/tv   ruim  \n",
       "2  masculino solteiro             educação    bom  \n",
       "3  masculino solteiro  mobilia/equipamento    bom  \n",
       "4  masculino solteiro           carro novo   ruim  "
      ]
     },
     "execution_count": 3,
     "metadata": {},
     "output_type": "execute_result"
    }
   ],
   "source": [
    "dataset.head()"
   ]
  },
  {
   "cell_type": "code",
   "execution_count": 4,
   "id": "93cae35c",
   "metadata": {},
   "outputs": [],
   "source": [
    "y = dataset['CLASSE']\n",
    "X = dataset.iloc[:,:-1]"
   ]
  },
  {
   "cell_type": "code",
   "execution_count": 11,
   "id": "4a55395d",
   "metadata": {},
   "outputs": [
    {
     "data": {
      "text/plain": [
       "<bound method DataFrame.isnull of      SALDO_ATUAL  RESIDENCIADESDE  IDADE OUTROSPLANOSPGTO        DATA  \\\n",
       "0         1169.0                4     67           nenhum  01/01/2019   \n",
       "1         5951.0                2     22           nenhum  01/01/2020   \n",
       "2         2096.0                3     49           nenhum  02/01/2020   \n",
       "3         7882.0                4     45           nenhum  02/01/2019   \n",
       "4         4870.0                4     53           nenhum  03/01/2018   \n",
       "..           ...              ...    ...              ...         ...   \n",
       "995       1736.0                4     31           nenhum  29/06/2018   \n",
       "996       3857.0                4     40           nenhum  30/06/2018   \n",
       "997        804.0                4     38           nenhum  03/07/2018   \n",
       "998       1845.0                4     23           nenhum  04/07/2019   \n",
       "999       4576.0                4     27           nenhum  05/07/2018   \n",
       "\n",
       "            ESTADOCIVIL            PROPOSITO  \n",
       "0    masculino solteiro             radio/tv  \n",
       "1           fem div/cas             radio/tv  \n",
       "2    masculino solteiro             educação  \n",
       "3    masculino solteiro  mobilia/equipamento  \n",
       "4    masculino solteiro           carro novo  \n",
       "..                  ...                  ...  \n",
       "995         fem div/cas  mobilia/equipamento  \n",
       "996   masculino div/sep          carro usado  \n",
       "997  masculino solteiro             radio/tv  \n",
       "998  masculino solteiro             radio/tv  \n",
       "999  masculino solteiro          carro usado  \n",
       "\n",
       "[1000 rows x 7 columns]>"
      ]
     },
     "execution_count": 11,
     "metadata": {},
     "output_type": "execute_result"
    }
   ],
   "source": [
    "X.isnull"
   ]
  },
  {
   "cell_type": "code",
   "execution_count": 12,
   "id": "82b8a4fa",
   "metadata": {},
   "outputs": [
    {
     "data": {
      "text/plain": [
       "np.float64(2323.0)"
      ]
     },
     "execution_count": 12,
     "metadata": {},
     "output_type": "execute_result"
    }
   ],
   "source": [
    "mediana = X['SALDO_ATUAL'].median()\n",
    "mediana"
   ]
  },
  {
   "cell_type": "code",
   "execution_count": 15,
   "id": "ec953d07",
   "metadata": {},
   "outputs": [
    {
     "name": "stderr",
     "output_type": "stream",
     "text": [
      "C:\\Users\\gustavofb\\AppData\\Local\\Temp\\1\\ipykernel_18088\\2699089723.py:1: FutureWarning: A value is trying to be set on a copy of a DataFrame or Series through chained assignment using an inplace method.\n",
      "The behavior will change in pandas 3.0. This inplace method will never work because the intermediate object on which we are setting values always behaves as a copy.\n",
      "\n",
      "For example, when doing 'df[col].method(value, inplace=True)', try using 'df.method({col: value}, inplace=True)' or df[col] = df[col].method(value) instead, to perform the operation inplace on the original object.\n",
      "\n",
      "\n",
      "  X['SALDO_ATUAL'].fillna(mediana, inplace=True)\n"
     ]
    },
    {
     "data": {
      "text/plain": [
       "<bound method DataFrame.isnull of      SALDO_ATUAL  RESIDENCIADESDE  IDADE OUTROSPLANOSPGTO        DATA  \\\n",
       "0         1169.0                4     67           nenhum  01/01/2019   \n",
       "1         5951.0                2     22           nenhum  01/01/2020   \n",
       "2         2096.0                3     49           nenhum  02/01/2020   \n",
       "3         7882.0                4     45           nenhum  02/01/2019   \n",
       "4         4870.0                4     53           nenhum  03/01/2018   \n",
       "..           ...              ...    ...              ...         ...   \n",
       "995       1736.0                4     31           nenhum  29/06/2018   \n",
       "996       3857.0                4     40           nenhum  30/06/2018   \n",
       "997        804.0                4     38           nenhum  03/07/2018   \n",
       "998       1845.0                4     23           nenhum  04/07/2019   \n",
       "999       4576.0                4     27           nenhum  05/07/2018   \n",
       "\n",
       "            ESTADOCIVIL            PROPOSITO  \n",
       "0    masculino solteiro             radio/tv  \n",
       "1           fem div/cas             radio/tv  \n",
       "2    masculino solteiro             educação  \n",
       "3    masculino solteiro  mobilia/equipamento  \n",
       "4    masculino solteiro           carro novo  \n",
       "..                  ...                  ...  \n",
       "995         fem div/cas  mobilia/equipamento  \n",
       "996   masculino div/sep          carro usado  \n",
       "997  masculino solteiro             radio/tv  \n",
       "998  masculino solteiro             radio/tv  \n",
       "999  masculino solteiro          carro usado  \n",
       "\n",
       "[1000 rows x 7 columns]>"
      ]
     },
     "execution_count": 15,
     "metadata": {},
     "output_type": "execute_result"
    }
   ],
   "source": [
    "X['SALDO_ATUAL'].fillna(mediana, inplace=True)\n",
    "X.isnull"
   ]
  },
  {
   "cell_type": "code",
   "execution_count": 16,
   "id": "72a5fbeb",
   "metadata": {},
   "outputs": [
    {
     "data": {
      "application/vnd.microsoft.datawrangler.viewer.v0+json": {
       "columns": [
        {
         "name": "ESTADOCIVIL",
         "rawType": "object",
         "type": "string"
        },
        {
         "name": "0",
         "rawType": "int64",
         "type": "integer"
        }
       ],
       "ref": "40c149f9-cea1-4482-bb6e-8c0474e436b5",
       "rows": [
        [
         "fem div/cas",
         "308"
        ],
        [
         "masculino casado/viuvo",
         "92"
        ],
        [
         "masculino div/sep",
         "50"
        ],
        [
         "masculino solteiro",
         "542"
        ]
       ],
       "shape": {
        "columns": 1,
        "rows": 4
       }
      },
      "text/plain": [
       "ESTADOCIVIL\n",
       "fem div/cas               308\n",
       "masculino casado/viuvo     92\n",
       "masculino div/sep          50\n",
       "masculino solteiro        542\n",
       "dtype: int64"
      ]
     },
     "execution_count": 16,
     "metadata": {},
     "output_type": "execute_result"
    }
   ],
   "source": [
    "agrupado = X.groupby(['ESTADOCIVIL']).size()\n",
    "agrupado"
   ]
  },
  {
   "cell_type": "code",
   "execution_count": null,
   "id": "8318abf2",
   "metadata": {},
   "outputs": [],
   "source": [
    "X['ESTADOCIVIL'].fillna('masculino solteiro', inplace=True)"
   ]
  },
  {
   "cell_type": "code",
   "execution_count": 18,
   "id": "f68ef038",
   "metadata": {},
   "outputs": [
    {
     "data": {
      "text/plain": [
       "np.float64(685936688.9820067)"
      ]
     },
     "execution_count": 18,
     "metadata": {},
     "output_type": "execute_result"
    }
   ],
   "source": [
    "desv = X['SALDO_ATUAL'].std()\n",
    "desv"
   ]
  },
  {
   "cell_type": "code",
   "execution_count": 20,
   "id": "fa8c1af1",
   "metadata": {},
   "outputs": [
    {
     "data": {
      "application/vnd.microsoft.datawrangler.viewer.v0+json": {
       "columns": [
        {
         "name": "index",
         "rawType": "int64",
         "type": "integer"
        },
        {
         "name": "SALDO_ATUAL",
         "rawType": "float64",
         "type": "float"
        }
       ],
       "ref": "c28cc97d-5595-4a82-8fbd-54f85bdb83c8",
       "rows": [
        [
         "127",
         "2541111000.0"
        ],
        [
         "160",
         "21544411255.0"
        ]
       ],
       "shape": {
        "columns": 1,
        "rows": 2
       }
      },
      "text/plain": [
       "127    2.541111e+09\n",
       "160    2.154441e+10\n",
       "Name: SALDO_ATUAL, dtype: float64"
      ]
     },
     "execution_count": 20,
     "metadata": {},
     "output_type": "execute_result"
    }
   ],
   "source": [
    "X.loc[X['SALDO_ATUAL']>=2 * desv, 'SALDO_ATUAL']"
   ]
  },
  {
   "cell_type": "code",
   "execution_count": 21,
   "id": "cdbd71a8",
   "metadata": {},
   "outputs": [
    {
     "data": {
      "text/plain": [
       "np.float64(2323.0)"
      ]
     },
     "execution_count": 21,
     "metadata": {},
     "output_type": "execute_result"
    }
   ],
   "source": [
    "mediana = X['SALDO_ATUAL'].median()\n",
    "mediana"
   ]
  },
  {
   "cell_type": "code",
   "execution_count": 22,
   "id": "1ce492c1",
   "metadata": {},
   "outputs": [
    {
     "data": {
      "application/vnd.microsoft.datawrangler.viewer.v0+json": {
       "columns": [
        {
         "name": "index",
         "rawType": "int64",
         "type": "integer"
        },
        {
         "name": "SALDO_ATUAL",
         "rawType": "float64",
         "type": "float"
        },
        {
         "name": "RESIDENCIADESDE",
         "rawType": "int64",
         "type": "integer"
        },
        {
         "name": "IDADE",
         "rawType": "int64",
         "type": "integer"
        },
        {
         "name": "OUTROSPLANOSPGTO",
         "rawType": "object",
         "type": "string"
        },
        {
         "name": "DATA",
         "rawType": "object",
         "type": "string"
        },
        {
         "name": "ESTADOCIVIL",
         "rawType": "object",
         "type": "string"
        },
        {
         "name": "PROPOSITO",
         "rawType": "object",
         "type": "string"
        }
       ],
       "ref": "9fd6b0c8-3696-42e2-90df-e40eab4c55f4",
       "rows": [],
       "shape": {
        "columns": 7,
        "rows": 0
       }
      },
      "text/html": [
       "<div>\n",
       "<style scoped>\n",
       "    .dataframe tbody tr th:only-of-type {\n",
       "        vertical-align: middle;\n",
       "    }\n",
       "\n",
       "    .dataframe tbody tr th {\n",
       "        vertical-align: top;\n",
       "    }\n",
       "\n",
       "    .dataframe thead th {\n",
       "        text-align: right;\n",
       "    }\n",
       "</style>\n",
       "<table border=\"1\" class=\"dataframe\">\n",
       "  <thead>\n",
       "    <tr style=\"text-align: right;\">\n",
       "      <th></th>\n",
       "      <th>SALDO_ATUAL</th>\n",
       "      <th>RESIDENCIADESDE</th>\n",
       "      <th>IDADE</th>\n",
       "      <th>OUTROSPLANOSPGTO</th>\n",
       "      <th>DATA</th>\n",
       "      <th>ESTADOCIVIL</th>\n",
       "      <th>PROPOSITO</th>\n",
       "    </tr>\n",
       "  </thead>\n",
       "  <tbody>\n",
       "  </tbody>\n",
       "</table>\n",
       "</div>"
      ],
      "text/plain": [
       "Empty DataFrame\n",
       "Columns: [SALDO_ATUAL, RESIDENCIADESDE, IDADE, OUTROSPLANOSPGTO, DATA, ESTADOCIVIL, PROPOSITO]\n",
       "Index: []"
      ]
     },
     "execution_count": 22,
     "metadata": {},
     "output_type": "execute_result"
    }
   ],
   "source": [
    "X.loc[X['SALDO_ATUAL']>=2 * desv, 'SALDO_ATUAL'] = mediana\n",
    "X.loc[X['SALDO_ATUAL']>=2 * desv]"
   ]
  }
 ],
 "metadata": {
  "kernelspec": {
   "display_name": ".venv (3.12.10)",
   "language": "python",
   "name": "python3"
  },
  "language_info": {
   "codemirror_mode": {
    "name": "ipython",
    "version": 3
   },
   "file_extension": ".py",
   "mimetype": "text/x-python",
   "name": "python",
   "nbconvert_exporter": "python",
   "pygments_lexer": "ipython3",
   "version": "3.12.10"
  }
 },
 "nbformat": 4,
 "nbformat_minor": 5
}
